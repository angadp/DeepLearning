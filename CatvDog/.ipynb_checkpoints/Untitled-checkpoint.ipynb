{
 "cells": [
  {
   "cell_type": "code",
   "execution_count": 1,
   "metadata": {},
   "outputs": [],
   "source": [
    "import torch"
   ]
  },
  {
   "cell_type": "code",
   "execution_count": 2,
   "metadata": {},
   "outputs": [],
   "source": [
    "from torchvision import datasets, transforms\n",
    "from torch.utils import data"
   ]
  },
  {
   "cell_type": "code",
   "execution_count": 3,
   "metadata": {},
   "outputs": [
    {
     "name": "stdout",
     "output_type": "stream",
     "text": [
      "GPU\n"
     ]
    },
    {
     "data": {
      "text/plain": [
       "1"
      ]
     },
     "execution_count": 3,
     "metadata": {},
     "output_type": "execute_result"
    }
   ],
   "source": [
    "if torch.cuda.is_available:\n",
    "    device = torch.device(\"cuda:0\")\n",
    "    print(\"GPU\")\n",
    "torch.cuda.device_count()"
   ]
  },
  {
   "cell_type": "code",
   "execution_count": 4,
   "metadata": {},
   "outputs": [],
   "source": [
    "torch.cuda.set_device(0)"
   ]
  },
  {
   "cell_type": "code",
   "execution_count": 5,
   "metadata": {},
   "outputs": [],
   "source": [
    "transform = transforms.Compose([transforms.ToTensor(), transforms.Resize(size=(300, 300))])\n",
    "\n",
    "dataset = datasets.ImageFolder(root = './data/training_set/training_set', transform = transform)\n",
    "\n",
    "loader = data.DataLoader(dataset, batch_size=16, shuffle=True)\n",
    "\n",
    "tdataset = datasets.ImageFolder(root = './data/test_set/test_set', transform = transform)\n",
    "\n",
    "tloader = data.DataLoader(tdataset, batch_size=16, shuffle=True)"
   ]
  },
  {
   "cell_type": "code",
   "execution_count": 6,
   "metadata": {},
   "outputs": [
    {
     "data": {
      "text/plain": [
       "501"
      ]
     },
     "execution_count": 6,
     "metadata": {},
     "output_type": "execute_result"
    }
   ],
   "source": [
    "len(loader)"
   ]
  },
  {
   "cell_type": "code",
   "execution_count": 7,
   "metadata": {},
   "outputs": [],
   "source": [
    "import torch.nn.functional as F\n",
    "\n",
    "class Net(torch.nn.Module):\n",
    "    def __init__(self):\n",
    "        super(Net, self).__init__()\n",
    "        self.conv1 = torch.nn.Conv1d(in_channels = 300, out_channels = 297, kernel_size=3)\n",
    "        self.pool = torch.nn.MaxPool2d(2)\n",
    "        self.conv2 = torch.nn.Conv1d(in_channels = 148, out_channels = 146, kernel_size=3)\n",
    "        self.pool2 = torch.nn.MaxPool2d(2)\n",
    "        self.conv3 = torch.nn.Conv1d(in_channels = 73, out_channels = 71, kernel_size=3)\n",
    "        self.pool3 = torch.nn.MaxPool2d(3)\n",
    "        self.flatten = torch.nn.Flatten(0, -1)\n",
    "        self.linear1 = torch.nn.Linear(1587, 512)\n",
    "        self.linear2 = torch.nn.Linear(512, 32)\n",
    "        self.linear3 = torch.nn.Linear(32,1)\n",
    "        self.dropout = torch.nn.Dropout(0.2)\n",
    "        self.final = torch.nn.Sigmoid()\n",
    "    \n",
    "    def forward(self, x):\n",
    "        x = F.relu(self.conv1(x))\n",
    "        x = self.pool(x)\n",
    "        x = F.relu(self.conv2(x))\n",
    "        x = self.pool2(x)\n",
    "        x = self.dropout(x)\n",
    "        x = F.relu(self.conv3(x))\n",
    "        x = self.pool3(x)\n",
    "        x = self.flatten(x)\n",
    "        x = self.linear1(x)\n",
    "        x = self.linear2(x)\n",
    "        x = self.dropout(x)\n",
    "        x = self.linear3(x)\n",
    "        x = self.final(x)\n",
    "        return x\n",
    "\n",
    "net = Net().to(device)"
   ]
  },
  {
   "cell_type": "code",
   "execution_count": 8,
   "metadata": {},
   "outputs": [
    {
     "name": "stdout",
     "output_type": "stream",
     "text": [
      "Net(\n",
      "  (conv1): Conv1d(300, 297, kernel_size=(3,), stride=(1,))\n",
      "  (pool): MaxPool2d(kernel_size=2, stride=2, padding=0, dilation=1, ceil_mode=False)\n",
      "  (conv2): Conv1d(148, 146, kernel_size=(3,), stride=(1,))\n",
      "  (pool2): MaxPool2d(kernel_size=2, stride=2, padding=0, dilation=1, ceil_mode=False)\n",
      "  (conv3): Conv1d(73, 71, kernel_size=(3,), stride=(1,))\n",
      "  (pool3): MaxPool2d(kernel_size=3, stride=3, padding=0, dilation=1, ceil_mode=False)\n",
      "  (flatten): Flatten(start_dim=0, end_dim=-1)\n",
      "  (linear1): Linear(in_features=1587, out_features=512, bias=True)\n",
      "  (linear2): Linear(in_features=512, out_features=32, bias=True)\n",
      "  (linear3): Linear(in_features=32, out_features=1, bias=True)\n",
      "  (dropout): Dropout(p=0.2, inplace=False)\n",
      "  (final): Sigmoid()\n",
      ")\n"
     ]
    }
   ],
   "source": [
    "print(net)"
   ]
  },
  {
   "cell_type": "code",
   "execution_count": 9,
   "metadata": {},
   "outputs": [],
   "source": [
    "import torch.optim as optim\n",
    "\n",
    "criterion = torch.nn.MSELoss()\n",
    "params = net.parameters()\n",
    "optimizer = optim.Adam(params)"
   ]
  },
  {
   "cell_type": "code",
   "execution_count": null,
   "metadata": {},
   "outputs": [
    {
     "name": "stdout",
     "output_type": "stream",
     "text": [
      "3.8595474374294283 0\n",
      "0.00976811647415161 0\n",
      "0.009742544889450073 0\n",
      "0.009746902585029603 0\n",
      "0.010328043699264527 0\n",
      "0.009702964425086976 0\n",
      "0.009675753712654113 0\n",
      "0.009657753109931945 0\n",
      "0.009636971950531006 0\n",
      "0.009620821475982666 0\n",
      "0.010435996055603027 0\n",
      "0.010201538801193238 0\n",
      "0.00958584487438202 0\n",
      "0.009529944658279419 0\n",
      "0.010500437021255494 0\n",
      "0.009530157446861268 0\n",
      "3.8448495012521744 0\n",
      "0.008979318737983704 0\n",
      "0.008912935853004456 0\n",
      "0.011110434532165528 0\n",
      "0.008910660147666932 0\n",
      "0.01116560459136963 0\n",
      "0.011226727962493896 0\n",
      "0.008962424397468567 0\n",
      "0.010968514680862428 0\n",
      "0.009211191534996032 0\n",
      "0.009204357862472534 0\n",
      "0.011181701421737671 0\n",
      "0.011227542161941528 0\n",
      "0.009001438021659851 0\n",
      "0.011203073263168335 0\n",
      "0.00899834156036377 0\n",
      "3.8599701726436617 0\n",
      "0.01029491662979126 0\n",
      "0.009609500169754029 0\n",
      "0.00958703100681305 0\n",
      "0.009584903120994567 0\n",
      "0.009601756334304809 0\n",
      "0.010432547330856324 0\n",
      "0.010292491912841796 0\n",
      "0.010418299436569214 0\n",
      "0.010431814193725585 0\n",
      "0.009573482871055604 0\n",
      "0.01043203353881836 0\n",
      "0.010432915687561035 0\n",
      "0.010429097414016724 0\n",
      "0.010314960479736329 0\n",
      "0.01041404128074646 0\n",
      "3.8563191425800323 0\n",
      "0.009950881600379944 0\n",
      "0.010051877498626708 0\n",
      "0.009902352094650268 0\n",
      "0.010120497941970825 0\n",
      "0.010096821784973144 0\n",
      "0.01010115385055542 0\n",
      "0.009893556833267212 0\n",
      "0.009921483993530274 0\n",
      "0.009871343970298768 0\n",
      "0.010119960308074952 0\n",
      "0.009865273237228394 0\n",
      "0.009892556071281432 0\n",
      "0.00981458842754364 0\n",
      "0.010180342197418212 0\n",
      "0.00977530837059021 0\n",
      "3.857555657029152 0\n",
      "0.010172719955444337 0\n",
      "0.00978800117969513 0\n",
      "0.010078372955322266 0\n",
      "0.01016500473022461 0\n",
      "0.010108007192611694 0\n",
      "0.010145444869995118 0\n",
      "0.010142965316772461 0\n",
      "0.00989631712436676 0\n",
      "0.010093244314193726 0\n",
      "0.010085976123809815 0\n",
      "0.010064976215362549 0\n",
      "0.009944204688072205 0\n",
      "0.009967718124389648 0\n",
      "0.009976143836975098 0\n",
      "0.009934706091880798 0\n",
      "3.848305920958519 0\n",
      "0.010529597997665405 0\n",
      "0.010537761449813842 0\n",
      "0.010563195943832397 0\n",
      "0.010588513612747192 0\n",
      "0.010562564134597779 0\n",
      "0.010532017946243286 0\n",
      "0.009541027545928955 0\n",
      "0.010608078241348266 0\n",
      "0.010491845607757568 0\n",
      "0.009508747458457947 0\n",
      "0.01052939772605896 0\n",
      "0.010498843193054198 0\n",
      "0.010501005649566651 0\n",
      "0.010435808897018433 0\n",
      "0.009583204984664917 0\n",
      "3.8533402198553084 0\n",
      "0.01033894658088684 0\n",
      "0.010342084169387818 0\n",
      "0.010340234041213989 0\n",
      "0.010304633378982544 0\n",
      "0.010322221517562867 0\n",
      "0.010315335988998413 0\n",
      "0.01030305027961731 0\n",
      "0.009713051319122314 0\n",
      "0.00972041666507721 0\n",
      "0.01027404546737671 0\n",
      "0.009731119871139527 0\n",
      "0.010272406339645386 0\n",
      "0.010267198085784912 0\n",
      "0.009744417071342468 0\n",
      "0.009756817221641541 0\n"
     ]
    }
   ],
   "source": [
    "for epochs in range(10):\n",
    "    running_loss = 0.0\n",
    "    correct = 0\n",
    "    \n",
    "    for i, data in enumerate(loader):\n",
    "        for j in range(len(data[0])):\n",
    "            inpu = torch.div(data[0][j], 256).to(device)\n",
    "            labels = data[1][j].float().to(device)\n",
    "    #         print(inpu)\n",
    "\n",
    "            optimizer.zero_grad()\n",
    "\n",
    "            outputs = net(inpu.squeeze(0))\n",
    "            loss = criterion(outputs[0], labels)\n",
    "#             print(loss)\n",
    "            loss.backward()\n",
    "            optimizer.step()\n",
    "\n",
    "            running_loss  += loss.item()\n",
    "            if(i%25 == 24):\n",
    "                print(running_loss/25)\n",
    "                running_loss = 0.0\n",
    "        \n",
    "    running_loss = 0.0\n",
    "    for i, data in enumerate(tloader):\n",
    "        for j in range(len(data[0])):\n",
    "            inpu = torch.div(data[0][j], 256).to(device)\n",
    "            labels = data[1][j].float().to(device)\n",
    "    #         print(inpu)\n",
    "\n",
    "            optimizer.zero_grad()\n",
    "\n",
    "            outputs = net(inpu.squeeze(0))\n",
    "#             print(outputs)\n",
    "            loss = criterion(outputs, labels)\n",
    "\n",
    "        running_loss  += loss.item()\n",
    "        if(i%125 == 124):\n",
    "            print(running_loss/125)\n",
    "            running_loss = 0.0\n",
    "    print(i)\n",
    "print(\"Finished training\")"
   ]
  },
  {
   "cell_type": "code",
   "execution_count": null,
   "metadata": {},
   "outputs": [],
   "source": []
  }
 ],
 "metadata": {
  "kernelspec": {
   "display_name": "Python 3",
   "language": "python",
   "name": "python3"
  },
  "language_info": {
   "codemirror_mode": {
    "name": "ipython",
    "version": 3
   },
   "file_extension": ".py",
   "mimetype": "text/x-python",
   "name": "python",
   "nbconvert_exporter": "python",
   "pygments_lexer": "ipython3",
   "version": "3.7.9"
  }
 },
 "nbformat": 4,
 "nbformat_minor": 4
}
