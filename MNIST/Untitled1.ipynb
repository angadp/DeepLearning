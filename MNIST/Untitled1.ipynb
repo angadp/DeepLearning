{
 "cells": [
  {
   "cell_type": "code",
   "execution_count": 1,
   "metadata": {},
   "outputs": [],
   "source": [
    "import torch"
   ]
  },
  {
   "cell_type": "code",
   "execution_count": 2,
   "metadata": {},
   "outputs": [],
   "source": [
    "import pandas\n",
    "train_data = pandas.read_csv('./data/train.csv')\n",
    "test_data = pandas.read_csv('./data/test.csv')"
   ]
  },
  {
   "cell_type": "code",
   "execution_count": 3,
   "metadata": {},
   "outputs": [],
   "source": [
    "val_data = train_data[:int(len(train_data)/10)]\n",
    "train_data = train_data[int(len(train_data)/10):]"
   ]
  },
  {
   "cell_type": "code",
   "execution_count": 17,
   "metadata": {},
   "outputs": [],
   "source": [
    "import numpy\n",
    "\n",
    "train_y = torch.nn.functional.one_hot(torch.Tensor(train_data[\"label\"].values).to(torch.int64), 10)\n",
    "train_x = train_data.loc[:, train_data.columns != \"label\"]\n",
    "train_x /= 256\n",
    "train_x = torch.reshape(torch.Tensor(train_x.values), (37800, 28, 28))\n",
    "\n",
    "val_y = torch.nn.functional.one_hot(torch.Tensor(val_data[\"label\"].values).to(torch.int64), 10)\n",
    "val_x = val_data.loc[:, val_data.columns != \"label\"]\n",
    "val_x /= 256\n",
    "val_x = torch.reshape(torch.Tensor(val_x.values), (4200, 28, 28))"
   ]
  },
  {
   "cell_type": "code",
   "execution_count": 26,
   "metadata": {},
   "outputs": [
    {
     "name": "stdout",
     "output_type": "stream",
     "text": [
      "torch.Size([1, 26, 26])\n"
     ]
    }
   ],
   "source": [
    "train = train_x[0].unsqueeze(0)\n",
    "print(torch.nn.Conv1d(in_channels=28, out_channels=26, kernel_size=3)(train).shape)"
   ]
  },
  {
   "cell_type": "code",
   "execution_count": 42,
   "metadata": {},
   "outputs": [],
   "source": [
    "import torch.nn.functional as F\n",
    "\n",
    "class Net(torch.nn.Module):\n",
    "    def __init__(self):\n",
    "        super(Net, self).__init__()\n",
    "        self.conv1 = torch.nn.Conv1d(in_channels=28, out_channels=26, kernel_size=3)\n",
    "        self.pool = torch.nn.MaxPool2d(2)\n",
    "        self.flatten = torch.nn.Flatten(0, -1)\n",
    "        self.linear = torch.nn.Linear(169, 64)\n",
    "        self.drop = torch.nn.Dropout(0.2)\n",
    "        self.linear1 = torch.nn.Linear(64,10)\n",
    "        self.fina = torch.nn.Sigmoid()\n",
    "    \n",
    "    def forward(self, x):\n",
    "        x = F.relu(self.conv1(x))\n",
    "        x = self.pool(x)\n",
    "        x = self.flatten(x)\n",
    "        x = self.linear(x)\n",
    "        x = self.drop(x)\n",
    "        x = self.linear1(x)\n",
    "        x = self.fina(x)\n",
    "        return x\n",
    "\n",
    "net = Net()"
   ]
  },
  {
   "cell_type": "code",
   "execution_count": 43,
   "metadata": {},
   "outputs": [
    {
     "name": "stdout",
     "output_type": "stream",
     "text": [
      "Net(\n",
      "  (conv1): Conv1d(28, 26, kernel_size=(3,), stride=(1,))\n",
      "  (pool): MaxPool2d(kernel_size=2, stride=2, padding=0, dilation=1, ceil_mode=False)\n",
      "  (flatten): Flatten(start_dim=0, end_dim=-1)\n",
      "  (linear): Linear(in_features=169, out_features=64, bias=True)\n",
      "  (drop): Dropout(p=0.2, inplace=False)\n",
      "  (linear1): Linear(in_features=64, out_features=10, bias=True)\n",
      "  (fina): Sigmoid()\n",
      ")\n"
     ]
    }
   ],
   "source": [
    "print(net)"
   ]
  },
  {
   "cell_type": "code",
   "execution_count": 44,
   "metadata": {},
   "outputs": [],
   "source": [
    "import torch.optim as optim\n",
    "\n",
    "criterion = torch.nn.MSELoss()\n",
    "params = net.parameters()\n",
    "optimizer = optim.Adam(params)"
   ]
  },
  {
   "cell_type": "code",
   "execution_count": 46,
   "metadata": {},
   "outputs": [
    {
     "name": "stdout",
     "output_type": "stream",
     "text": [
      "0.013230233238317197\n",
      "0.01374399767235517\n",
      "0.012312154093872237\n",
      "0.01405778315169942\n",
      "0.014041347010951765\n",
      "0.011607471524468201\n",
      "0.012679349678092757\n",
      "0.012922946990869873\n",
      "0.01325137742246179\n",
      "0.012612659603480004\n",
      "0.014133176704992898\n",
      "0.014378128454440628\n",
      "0.013314133286660298\n",
      "0.012706881280625713\n",
      "0.01409408628188938\n",
      "0.013821486082770009\n",
      "0.012638738779556298\n",
      "0.012815883719387099\n",
      "0.014154343382282086\n",
      "0.015073057994258116\n",
      "0.013642943949975977\n",
      "0.013647981114754168\n",
      "0.014395348513157257\n",
      "0.012031420143544743\n",
      "0.012864453273956281\n",
      "0.013011323018137191\n",
      "0.014912820346253856\n",
      "0.012886522158487854\n",
      "0.013675815504902397\n",
      "0.013931940451939616\n",
      "0.01312094574081494\n",
      "0.012594917915530364\n",
      "0.012578835676365347\n",
      "0.013364599491948573\n",
      "0.014063573324005754\n",
      "0.011936488357136975\n",
      "Finished training\n"
     ]
    }
   ],
   "source": [
    "for epochs in range(2):\n",
    "    running_loss = 0.0\n",
    "    \n",
    "    for i, data in enumerate(train_x):\n",
    "        inpu = train_x[i]\n",
    "        labels = train_y[i].float()\n",
    "#         print(inpu)\n",
    "        \n",
    "        optimizer.zero_grad()\n",
    "        \n",
    "        inp = inpu.unsqueeze(0)\n",
    "        outputs = net(inp)\n",
    "#         console.log(outputs)\n",
    "        loss = criterion(outputs, labels)\n",
    "        loss.backward()\n",
    "        optimizer.step()\n",
    "        \n",
    "        running_loss  += loss.item()\n",
    "        if(i%2000 == 1999):\n",
    "            print(running_loss/2000)\n",
    "            running_loss = 0.0\n",
    "print(\"Finished training\")"
   ]
  },
  {
   "cell_type": "code",
   "execution_count": null,
   "metadata": {},
   "outputs": [],
   "source": []
  }
 ],
 "metadata": {
  "kernelspec": {
   "display_name": "Python 3",
   "language": "python",
   "name": "python3"
  },
  "language_info": {
   "codemirror_mode": {
    "name": "ipython",
    "version": 3
   },
   "file_extension": ".py",
   "mimetype": "text/x-python",
   "name": "python",
   "nbconvert_exporter": "python",
   "pygments_lexer": "ipython3",
   "version": "3.7.9"
  }
 },
 "nbformat": 4,
 "nbformat_minor": 4
}
