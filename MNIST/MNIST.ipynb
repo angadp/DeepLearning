{
 "cells": [
  {
   "cell_type": "markdown",
   "metadata": {},
   "source": [
    "# Imports"
   ]
  },
  {
   "cell_type": "code",
   "execution_count": 1,
   "metadata": {},
   "outputs": [],
   "source": [
    "import numpy\n",
    "import pandas\n",
    "import matplotlib.pyplot as plt\n",
    "\n",
    "from keras.utils import to_categorical\n",
    "from keras.layers import Conv2D, MaxPooling2D, Dense, Flatten, Dropout, BatchNormalization\n",
    "from keras.models import Sequential\n",
    "from keras.preprocessing.image import ImageDataGenerator\n",
    "from keras.callbacks import EarlyStopping"
   ]
  },
  {
   "cell_type": "markdown",
   "metadata": {},
   "source": [
    "# Loading and Preparing the data"
   ]
  },
  {
   "cell_type": "markdown",
   "metadata": {},
   "source": [
    "The data is from Kaggle in csv format."
   ]
  },
  {
   "cell_type": "code",
   "execution_count": 2,
   "metadata": {},
   "outputs": [],
   "source": [
    "train_data = pandas.read_csv('./data/train.csv')\n",
    "test_data = pandas.read_csv('./data/test.csv')"
   ]
  },
  {
   "cell_type": "markdown",
   "metadata": {},
   "source": [
    "Divide the training daa into validation and training set."
   ]
  },
  {
   "cell_type": "code",
   "execution_count": 3,
   "metadata": {},
   "outputs": [],
   "source": [
    "val_data = train_data[:int(len(train_data)/10)]\n",
    "train_data = train_data[int(len(train_data)/10):]"
   ]
  },
  {
   "cell_type": "markdown",
   "metadata": {},
   "source": [
    "Get the training labels and prepare the data. IN the end we also reshape the data"
   ]
  },
  {
   "cell_type": "code",
   "execution_count": 4,
   "metadata": {},
   "outputs": [],
   "source": [
    "train_y = to_categorical(train_data[\"label\"])\n",
    "train_x = train_data.loc[:, train_data.columns != \"label\"]\n",
    "train_x /= 256\n",
    "\n",
    "val_y = to_categorical(val_data[\"label\"])\n",
    "val_x = val_data.loc[:, val_data.columns != \"label\"]\n",
    "val_x /= 256\n",
    "\n",
    "train_x = train_x.values.reshape(-1, 28, 28, 1)\n",
    "val_x = val_x.values.reshape(-1, 28, 28, 1)"
   ]
  },
  {
   "cell_type": "markdown",
   "metadata": {},
   "source": [
    "# Define the model"
   ]
  },
  {
   "cell_type": "code",
   "execution_count": 5,
   "metadata": {},
   "outputs": [],
   "source": [
    "model = Sequential()\n",
    "model.add(Conv2D(256, (3,3), activation='relu', input_shape=(28,28, 1)))\n",
    "model.add(MaxPooling2D((2,2)))\n",
    "model.add(Conv2D(128, (3,3), activation='relu'))\n",
    "model.add(BatchNormalization())\n",
    "model.add(Conv2D(96, (3,3), activation='relu'))\n",
    "model.add(Conv2D(64, (3,3), activation='relu'))\n",
    "model.add(MaxPooling2D((2,2)))\n",
    "model.add(Dropout(0.15))\n",
    "model.add(Flatten())\n",
    "model.add(Dense(128, activation='relu'))\n",
    "model.add(Dropout(0.15))\n",
    "model.add(Dense(32, activation='relu'))\n",
    "model.add(Dense(10, activation='sigmoid'))"
   ]
  },
  {
   "cell_type": "code",
   "execution_count": 6,
   "metadata": {},
   "outputs": [],
   "source": [
    "model.compile(loss='categorical_crossentropy', optimizer='SGD', metrics=['accuracy'])"
   ]
  },
  {
   "cell_type": "code",
   "execution_count": 7,
   "metadata": {},
   "outputs": [
    {
     "name": "stdout",
     "output_type": "stream",
     "text": [
      "Model: \"sequential\"\n",
      "_________________________________________________________________\n",
      "Layer (type)                 Output Shape              Param #   \n",
      "=================================================================\n",
      "conv2d (Conv2D)              (None, 26, 26, 256)       2560      \n",
      "_________________________________________________________________\n",
      "max_pooling2d (MaxPooling2D) (None, 13, 13, 256)       0         \n",
      "_________________________________________________________________\n",
      "conv2d_1 (Conv2D)            (None, 11, 11, 128)       295040    \n",
      "_________________________________________________________________\n",
      "batch_normalization (BatchNo (None, 11, 11, 128)       512       \n",
      "_________________________________________________________________\n",
      "conv2d_2 (Conv2D)            (None, 9, 9, 96)          110688    \n",
      "_________________________________________________________________\n",
      "conv2d_3 (Conv2D)            (None, 7, 7, 64)          55360     \n",
      "_________________________________________________________________\n",
      "max_pooling2d_1 (MaxPooling2 (None, 3, 3, 64)          0         \n",
      "_________________________________________________________________\n",
      "dropout (Dropout)            (None, 3, 3, 64)          0         \n",
      "_________________________________________________________________\n",
      "flatten (Flatten)            (None, 576)               0         \n",
      "_________________________________________________________________\n",
      "dense (Dense)                (None, 128)               73856     \n",
      "_________________________________________________________________\n",
      "dropout_1 (Dropout)          (None, 128)               0         \n",
      "_________________________________________________________________\n",
      "dense_1 (Dense)              (None, 32)                4128      \n",
      "_________________________________________________________________\n",
      "dense_2 (Dense)              (None, 10)                330       \n",
      "=================================================================\n",
      "Total params: 542,474\n",
      "Trainable params: 542,218\n",
      "Non-trainable params: 256\n",
      "_________________________________________________________________\n"
     ]
    }
   ],
   "source": [
    "model.summary()"
   ]
  },
  {
   "cell_type": "markdown",
   "metadata": {},
   "source": [
    "# Augment the data"
   ]
  },
  {
   "cell_type": "code",
   "execution_count": 8,
   "metadata": {},
   "outputs": [],
   "source": [
    "datagen = ImageDataGenerator(\n",
    "    rotation_range=5,\n",
    "    zoom_range=0.15,\n",
    "    width_shift_range=0.15,\n",
    "    height_shift_range=0.15\n",
    ")\n",
    "\n",
    "datagen.fit(train_x)"
   ]
  },
  {
   "cell_type": "markdown",
   "metadata": {},
   "source": [
    "# Define the callback and train"
   ]
  },
  {
   "cell_type": "code",
   "execution_count": 9,
   "metadata": {},
   "outputs": [],
   "source": [
    "callback = EarlyStopping(monitor='accuracy', patience=8, restore_best_weights=True)"
   ]
  },
  {
   "cell_type": "code",
   "execution_count": 10,
   "metadata": {},
   "outputs": [
    {
     "name": "stdout",
     "output_type": "stream",
     "text": [
      "Epoch 1/80\n",
      "1182/1182 [==============================] - 13s 6ms/step - loss: 1.2642 - accuracy: 0.5631 - val_loss: 0.1335 - val_accuracy: 0.9631\n",
      "Epoch 2/80\n",
      "1182/1182 [==============================] - 7s 6ms/step - loss: 0.3091 - accuracy: 0.9045 - val_loss: 0.1341 - val_accuracy: 0.9605\n",
      "Epoch 3/80\n",
      "1182/1182 [==============================] - 7s 6ms/step - loss: 0.1984 - accuracy: 0.9375 - val_loss: 0.1217 - val_accuracy: 0.9664\n",
      "Epoch 4/80\n",
      "1182/1182 [==============================] - 7s 6ms/step - loss: 0.1494 - accuracy: 0.9569 - val_loss: 0.0654 - val_accuracy: 0.9826\n",
      "Epoch 5/80\n",
      "1182/1182 [==============================] - 7s 6ms/step - loss: 0.1259 - accuracy: 0.9631 - val_loss: 0.0748 - val_accuracy: 0.9781\n",
      "Epoch 6/80\n",
      "1182/1182 [==============================] - 7s 6ms/step - loss: 0.1010 - accuracy: 0.9700 - val_loss: 0.0569 - val_accuracy: 0.9829\n",
      "Epoch 7/80\n",
      "1182/1182 [==============================] - 7s 6ms/step - loss: 0.0960 - accuracy: 0.9708 - val_loss: 0.0369 - val_accuracy: 0.9886\n",
      "Epoch 8/80\n",
      "1182/1182 [==============================] - 7s 6ms/step - loss: 0.0861 - accuracy: 0.9738 - val_loss: 0.1060 - val_accuracy: 0.9712\n",
      "Epoch 9/80\n",
      "1182/1182 [==============================] - 7s 6ms/step - loss: 0.0774 - accuracy: 0.9762 - val_loss: 0.0373 - val_accuracy: 0.9881\n",
      "Epoch 10/80\n",
      "1182/1182 [==============================] - 7s 6ms/step - loss: 0.0748 - accuracy: 0.9775 - val_loss: 0.0309 - val_accuracy: 0.9902\n",
      "Epoch 11/80\n",
      "1182/1182 [==============================] - 7s 6ms/step - loss: 0.0687 - accuracy: 0.9781 - val_loss: 0.0517 - val_accuracy: 0.9862\n",
      "Epoch 12/80\n",
      "1182/1182 [==============================] - 7s 6ms/step - loss: 0.0635 - accuracy: 0.9805 - val_loss: 0.0394 - val_accuracy: 0.9874\n",
      "Epoch 13/80\n",
      "1182/1182 [==============================] - 7s 6ms/step - loss: 0.0654 - accuracy: 0.9802 - val_loss: 0.0488 - val_accuracy: 0.9855\n",
      "Epoch 14/80\n",
      "1182/1182 [==============================] - 7s 6ms/step - loss: 0.0583 - accuracy: 0.9830 - val_loss: 0.0347 - val_accuracy: 0.9881\n",
      "Epoch 15/80\n",
      "1182/1182 [==============================] - 7s 6ms/step - loss: 0.0539 - accuracy: 0.9831 - val_loss: 0.0330 - val_accuracy: 0.9886\n",
      "Epoch 16/80\n",
      "1182/1182 [==============================] - 7s 6ms/step - loss: 0.0512 - accuracy: 0.9849 - val_loss: 0.0324 - val_accuracy: 0.9902\n",
      "Epoch 17/80\n",
      "1182/1182 [==============================] - 7s 6ms/step - loss: 0.0496 - accuracy: 0.9855 - val_loss: 0.0351 - val_accuracy: 0.9898\n",
      "Epoch 18/80\n",
      "1182/1182 [==============================] - 7s 6ms/step - loss: 0.0486 - accuracy: 0.9854 - val_loss: 0.0217 - val_accuracy: 0.9921\n",
      "Epoch 19/80\n",
      "1182/1182 [==============================] - 7s 6ms/step - loss: 0.0486 - accuracy: 0.9855 - val_loss: 0.0317 - val_accuracy: 0.9914\n",
      "Epoch 20/80\n",
      "1182/1182 [==============================] - 7s 6ms/step - loss: 0.0486 - accuracy: 0.9852 - val_loss: 0.0386 - val_accuracy: 0.9871\n",
      "Epoch 21/80\n",
      "1182/1182 [==============================] - 7s 6ms/step - loss: 0.0470 - accuracy: 0.9858 - val_loss: 0.0244 - val_accuracy: 0.9921\n",
      "Epoch 22/80\n",
      "1182/1182 [==============================] - 7s 6ms/step - loss: 0.0463 - accuracy: 0.9860 - val_loss: 0.0364 - val_accuracy: 0.9888\n",
      "Epoch 23/80\n",
      "1182/1182 [==============================] - 7s 6ms/step - loss: 0.0412 - accuracy: 0.9877 - val_loss: 0.0210 - val_accuracy: 0.9929\n",
      "Epoch 24/80\n",
      "1182/1182 [==============================] - 7s 6ms/step - loss: 0.0394 - accuracy: 0.9878 - val_loss: 0.0247 - val_accuracy: 0.9924\n",
      "Epoch 25/80\n",
      "1182/1182 [==============================] - 7s 6ms/step - loss: 0.0382 - accuracy: 0.9889 - val_loss: 0.0260 - val_accuracy: 0.9929\n",
      "Epoch 26/80\n",
      "1182/1182 [==============================] - 7s 6ms/step - loss: 0.0417 - accuracy: 0.9873 - val_loss: 0.0261 - val_accuracy: 0.9931\n",
      "Epoch 27/80\n",
      "1182/1182 [==============================] - 7s 6ms/step - loss: 0.0364 - accuracy: 0.9891 - val_loss: 0.0296 - val_accuracy: 0.9907\n",
      "Epoch 28/80\n",
      "1182/1182 [==============================] - 7s 6ms/step - loss: 0.0355 - accuracy: 0.9891 - val_loss: 0.0226 - val_accuracy: 0.9924\n",
      "Epoch 29/80\n",
      "1182/1182 [==============================] - 7s 6ms/step - loss: 0.0377 - accuracy: 0.9888 - val_loss: 0.0241 - val_accuracy: 0.9940\n",
      "Epoch 30/80\n",
      "1182/1182 [==============================] - 7s 6ms/step - loss: 0.0382 - accuracy: 0.9889 - val_loss: 0.0417 - val_accuracy: 0.9862\n",
      "Epoch 31/80\n",
      "1182/1182 [==============================] - 7s 6ms/step - loss: 0.0372 - accuracy: 0.9890 - val_loss: 0.0309 - val_accuracy: 0.9912\n",
      "Epoch 32/80\n",
      "1182/1182 [==============================] - 7s 6ms/step - loss: 0.0367 - accuracy: 0.9891 - val_loss: 0.0322 - val_accuracy: 0.9905\n",
      "Epoch 33/80\n",
      "1182/1182 [==============================] - 7s 6ms/step - loss: 0.0309 - accuracy: 0.9912 - val_loss: 0.0297 - val_accuracy: 0.9919\n",
      "Epoch 34/80\n",
      "1182/1182 [==============================] - 7s 6ms/step - loss: 0.0354 - accuracy: 0.9890 - val_loss: 0.0236 - val_accuracy: 0.9931\n",
      "Epoch 35/80\n",
      "1182/1182 [==============================] - 7s 6ms/step - loss: 0.0342 - accuracy: 0.9889 - val_loss: 0.0250 - val_accuracy: 0.9936\n",
      "Epoch 36/80\n",
      "1182/1182 [==============================] - 7s 6ms/step - loss: 0.0328 - accuracy: 0.9899 - val_loss: 0.0230 - val_accuracy: 0.9929\n",
      "Epoch 37/80\n",
      "1182/1182 [==============================] - 7s 6ms/step - loss: 0.0330 - accuracy: 0.9900 - val_loss: 0.0249 - val_accuracy: 0.9926\n",
      "Epoch 38/80\n",
      "1182/1182 [==============================] - 7s 6ms/step - loss: 0.0277 - accuracy: 0.9919 - val_loss: 0.0233 - val_accuracy: 0.9938\n",
      "Epoch 39/80\n",
      "1182/1182 [==============================] - 7s 6ms/step - loss: 0.0307 - accuracy: 0.9911 - val_loss: 0.0296 - val_accuracy: 0.9912\n",
      "Epoch 40/80\n",
      "1182/1182 [==============================] - 7s 6ms/step - loss: 0.0267 - accuracy: 0.9910 - val_loss: 0.0405 - val_accuracy: 0.9883\n",
      "Epoch 41/80\n",
      "1182/1182 [==============================] - 7s 6ms/step - loss: 0.0311 - accuracy: 0.9912 - val_loss: 0.0254 - val_accuracy: 0.9917\n",
      "Epoch 42/80\n",
      "1182/1182 [==============================] - 7s 6ms/step - loss: 0.0277 - accuracy: 0.9909 - val_loss: 0.0214 - val_accuracy: 0.9943\n",
      "Epoch 43/80\n",
      "1182/1182 [==============================] - 7s 6ms/step - loss: 0.0277 - accuracy: 0.9918 - val_loss: 0.0211 - val_accuracy: 0.9936\n",
      "Epoch 44/80\n",
      "1182/1182 [==============================] - 7s 6ms/step - loss: 0.0282 - accuracy: 0.9913 - val_loss: 0.0248 - val_accuracy: 0.9929\n",
      "Epoch 45/80\n",
      "1182/1182 [==============================] - 7s 6ms/step - loss: 0.0265 - accuracy: 0.9919 - val_loss: 0.0225 - val_accuracy: 0.9938\n",
      "Epoch 46/80\n",
      "1182/1182 [==============================] - 7s 6ms/step - loss: 0.0257 - accuracy: 0.9920 - val_loss: 0.0312 - val_accuracy: 0.9895\n",
      "Epoch 47/80\n",
      "1182/1182 [==============================] - 7s 6ms/step - loss: 0.0239 - accuracy: 0.9927 - val_loss: 0.0169 - val_accuracy: 0.9950\n",
      "Epoch 48/80\n",
      "1182/1182 [==============================] - 7s 6ms/step - loss: 0.0261 - accuracy: 0.9926 - val_loss: 0.0291 - val_accuracy: 0.9914\n",
      "Epoch 49/80\n",
      "1182/1182 [==============================] - 7s 6ms/step - loss: 0.0288 - accuracy: 0.9922 - val_loss: 0.0201 - val_accuracy: 0.9943\n",
      "Epoch 50/80\n",
      "1182/1182 [==============================] - 7s 6ms/step - loss: 0.0269 - accuracy: 0.9918 - val_loss: 0.0305 - val_accuracy: 0.9910\n",
      "Epoch 51/80\n",
      "1182/1182 [==============================] - 7s 6ms/step - loss: 0.0256 - accuracy: 0.9928 - val_loss: 0.0223 - val_accuracy: 0.9933\n",
      "Epoch 52/80\n",
      "1182/1182 [==============================] - 7s 6ms/step - loss: 0.0225 - accuracy: 0.9929 - val_loss: 0.0222 - val_accuracy: 0.9943\n",
      "Epoch 53/80\n",
      "1182/1182 [==============================] - 7s 6ms/step - loss: 0.0272 - accuracy: 0.9921 - val_loss: 0.0212 - val_accuracy: 0.9945\n",
      "Epoch 54/80\n",
      "1182/1182 [==============================] - 7s 6ms/step - loss: 0.0264 - accuracy: 0.9921 - val_loss: 0.0260 - val_accuracy: 0.9921\n",
      "Epoch 55/80\n",
      "1182/1182 [==============================] - 7s 6ms/step - loss: 0.0249 - accuracy: 0.9929 - val_loss: 0.0251 - val_accuracy: 0.9933\n",
      "Epoch 56/80\n",
      "1182/1182 [==============================] - 7s 6ms/step - loss: 0.0229 - accuracy: 0.9931 - val_loss: 0.0249 - val_accuracy: 0.9917\n",
      "Epoch 57/80\n",
      "1182/1182 [==============================] - 7s 6ms/step - loss: 0.0242 - accuracy: 0.9933 - val_loss: 0.0216 - val_accuracy: 0.9936\n",
      "Epoch 58/80\n",
      "1182/1182 [==============================] - 7s 6ms/step - loss: 0.0324 - accuracy: 0.9905 - val_loss: 0.0290 - val_accuracy: 0.9924\n",
      "Epoch 59/80\n",
      "1182/1182 [==============================] - 7s 6ms/step - loss: 0.0246 - accuracy: 0.9926 - val_loss: 0.0240 - val_accuracy: 0.9924\n",
      "Epoch 60/80\n",
      "1182/1182 [==============================] - 7s 6ms/step - loss: 0.0232 - accuracy: 0.9934 - val_loss: 0.0236 - val_accuracy: 0.9924\n"
     ]
    }
   ],
   "source": [
    "history = model.fit(datagen.flow(train_x, train_y, batch_size=32), epochs=80, validation_data=(val_x, val_y), callbacks=[callback])"
   ]
  },
  {
   "cell_type": "markdown",
   "metadata": {},
   "source": [
    "# Visualize your results"
   ]
  },
  {
   "cell_type": "code",
   "execution_count": 11,
   "metadata": {},
   "outputs": [
    {
     "data": {
      "image/png": "[encoded data removed]",
      "text/plain": [
       "<Figure size 432x288 with 1 Axes>"
      ]
     },
     "metadata": {
      "needs_background": "light"
     },
     "output_type": "display_data"
    },
    {
     "data": {
      "image/png": "[encoded data removed]",
      "text/plain": [
       "<Figure size 432x288 with 1 Axes>"
      ]
     },
     "metadata": {
      "needs_background": "light"
     },
     "output_type": "display_data"
    }
   ],
   "source": [
    "acc = history.history['accuracy']\n",
    "loss = history.history['loss']\n",
    "val_acc = history.history['val_accuracy']\n",
    "val_loss = history.history['val_loss']\n",
    "epochs = range(len(acc))\n",
    "plt.plot(epochs, acc, 'r', label='training accuracy')\n",
    "plt.plot(epochs, val_acc, 'b', label='test accuracy')\n",
    "plt.legend()\n",
    "plt.figure()\n",
    "plt.plot(epochs, loss, 'r', label='Training Loss')\n",
    "plt.plot(epochs, val_loss, 'b', label='Validation Loss')\n",
    "plt.legend()\n",
    "plt.show()"
   ]
  },
  {
   "cell_type": "markdown",
   "metadata": {},
   "source": [
    "# Create the submission"
   ]
  },
  {
   "cell_type": "code",
   "execution_count": 12,
   "metadata": {},
   "outputs": [],
   "source": [
    "test_x = test_data.values.reshape(-1, 28, 28, 1)\n",
    "test_x/=256"
   ]
  },
  {
   "cell_type": "code",
   "execution_count": 13,
   "metadata": {},
   "outputs": [],
   "source": [
    "y_pred = model.predict(test_x)"
   ]
  },
  {
   "cell_type": "code",
   "execution_count": 14,
   "metadata": {},
   "outputs": [
    {
     "name": "stdout",
     "output_type": "stream",
     "text": [
      "[[0.         1.         1.         ... 1.         0.         0.        ]\n",
      " [1.         0.         1.         ... 0.         0.         0.9996934 ]\n",
      " [1.         0.         1.         ... 1.         0.         1.        ]\n",
      " ...\n",
      " [0.         0.19715671 1.         ... 0.         1.         0.        ]\n",
      " [0.         0.         1.         ... 1.         0.         1.        ]\n",
      " [0.         0.         1.         ... 0.         0.         0.        ]]\n"
     ]
    }
   ],
   "source": [
    "print(y_pred)"
   ]
  },
  {
   "cell_type": "code",
   "execution_count": 15,
   "metadata": {},
   "outputs": [],
   "source": [
    "y_pred = numpy.argmax(y_pred, axis=1)"
   ]
  },
  {
   "cell_type": "code",
   "execution_count": 16,
   "metadata": {},
   "outputs": [
    {
     "name": "stdout",
     "output_type": "stream",
     "text": [
      "[1 0 0 ... 2 2 2]\n"
     ]
    }
   ],
   "source": [
    "print(y_pred)"
   ]
  },
  {
   "cell_type": "code",
   "execution_count": 17,
   "metadata": {},
   "outputs": [],
   "source": [
    "y_pred = pandas.Series(y_pred,name='Label')"
   ]
  },
  {
   "cell_type": "code",
   "execution_count": 18,
   "metadata": {},
   "outputs": [],
   "source": [
    "submission = pandas.concat([pandas.Series(range(1, 28001), name='ImageId'), y_pred], axis=1)\n",
    "submission.to_csv('submission.csv', index=False)"
   ]
  }
 ],
 "metadata": {
  "kernelspec": {
   "display_name": "Python 3",
   "language": "python",
   "name": "python3"
  },
  "language_info": {
   "codemirror_mode": {
    "name": "ipython",
    "version": 3
   },
   "file_extension": ".py",
   "mimetype": "text/x-python",
   "name": "python",
   "nbconvert_exporter": "python",
   "pygments_lexer": "ipython3",
   "version": "3.8.5"
  }
 },
 "nbformat": 4,
 "nbformat_minor": 4
}
